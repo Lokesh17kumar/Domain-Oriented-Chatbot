{
 "cells": [
  {
   "cell_type": "code",
   "execution_count": 1,
   "metadata": {},
   "outputs": [
    {
     "name": "stdout",
     "output_type": "stream",
     "text": [
      "Requirement already satisfied: tflearn in c:\\users\\loki99\\anaconda3\\envs\\chatbot_phase_3\\lib\\site-packages (0.3.2)\n",
      "Requirement already satisfied: Pillow in c:\\users\\loki99\\anaconda3\\envs\\chatbot_phase_3\\lib\\site-packages (from tflearn) (7.0.0)\n",
      "Requirement already satisfied: six in c:\\users\\loki99\\anaconda3\\envs\\chatbot_phase_3\\lib\\site-packages (from tflearn) (1.14.0)\n",
      "Requirement already satisfied: numpy in c:\\users\\loki99\\anaconda3\\envs\\chatbot_phase_3\\lib\\site-packages (from tflearn) (1.18.1)\n",
      "Note: you may need to restart the kernel to use updated packages.\n"
     ]
    }
   ],
   "source": [
    "pip install tflearn\n"
   ]
  },
  {
   "cell_type": "code",
   "execution_count": 2,
   "metadata": {
    "scrolled": true
   },
   "outputs": [
    {
     "name": "stdout",
     "output_type": "stream",
     "text": [
      "Requirement already satisfied: tensorflow==1.15 in c:\\users\\loki99\\appdata\\roaming\\python\\python37\\site-packages (1.15.0)\n",
      "Requirement already satisfied: keras-preprocessing>=1.0.5 in c:\\users\\loki99\\anaconda3\\envs\\chatbot_phase_3\\lib\\site-packages (from tensorflow==1.15) (1.1.0)\n",
      "Requirement already satisfied: numpy<2.0,>=1.16.0 in c:\\users\\loki99\\anaconda3\\envs\\chatbot_phase_3\\lib\\site-packages (from tensorflow==1.15) (1.18.1)\n",
      "Requirement already satisfied: wrapt>=1.11.1 in c:\\users\\loki99\\anaconda3\\envs\\chatbot_phase_3\\lib\\site-packages (from tensorflow==1.15) (1.11.2)\n",
      "Requirement already satisfied: tensorboard<1.16.0,>=1.15.0 in c:\\users\\loki99\\appdata\\roaming\\python\\python37\\site-packages (from tensorflow==1.15) (1.15.0)\n",
      "Requirement already satisfied: opt-einsum>=2.3.2 in c:\\users\\loki99\\anaconda3\\envs\\chatbot_phase_3\\lib\\site-packages (from tensorflow==1.15) (3.1.0)\n",
      "Requirement already satisfied: tensorflow-estimator==1.15.1 in c:\\users\\loki99\\appdata\\roaming\\python\\python37\\site-packages (from tensorflow==1.15) (1.15.1)\n",
      "Requirement already satisfied: protobuf>=3.6.1 in c:\\users\\loki99\\anaconda3\\envs\\chatbot_phase_3\\lib\\site-packages (from tensorflow==1.15) (3.11.4)\n",
      "Requirement already satisfied: termcolor>=1.1.0 in c:\\users\\loki99\\anaconda3\\envs\\chatbot_phase_3\\lib\\site-packages (from tensorflow==1.15) (1.1.0)\n",
      "Requirement already satisfied: absl-py>=0.7.0 in c:\\users\\loki99\\anaconda3\\envs\\chatbot_phase_3\\lib\\site-packages (from tensorflow==1.15) (0.9.0)\n",
      "Requirement already satisfied: keras-applications>=1.0.8 in c:\\users\\loki99\\anaconda3\\envs\\chatbot_phase_3\\lib\\site-packages (from tensorflow==1.15) (1.0.8)\n",
      "Requirement already satisfied: six>=1.10.0 in c:\\users\\loki99\\anaconda3\\envs\\chatbot_phase_3\\lib\\site-packages (from tensorflow==1.15) (1.14.0)\n",
      "Requirement already satisfied: gast==0.2.2 in c:\\users\\loki99\\anaconda3\\envs\\chatbot_phase_3\\lib\\site-packages (from tensorflow==1.15) (0.2.2)\n",
      "Requirement already satisfied: grpcio>=1.8.6 in c:\\users\\loki99\\anaconda3\\envs\\chatbot_phase_3\\lib\\site-packages (from tensorflow==1.15) (1.27.2)\n",
      "Requirement already satisfied: astor>=0.6.0 in c:\\users\\loki99\\anaconda3\\envs\\chatbot_phase_3\\lib\\site-packages (from tensorflow==1.15) (0.8.0)\n",
      "Requirement already satisfied: wheel>=0.26 in c:\\users\\loki99\\anaconda3\\envs\\chatbot_phase_3\\lib\\site-packages (from tensorflow==1.15) (0.34.2)\n",
      "Requirement already satisfied: google-pasta>=0.1.6 in c:\\users\\loki99\\anaconda3\\envs\\chatbot_phase_3\\lib\\site-packages (from tensorflow==1.15) (0.1.8)\n",
      "Requirement already satisfied: markdown>=2.6.8 in c:\\users\\loki99\\anaconda3\\envs\\chatbot_phase_3\\lib\\site-packages (from tensorboard<1.16.0,>=1.15.0->tensorflow==1.15) (3.1.1)\n",
      "Requirement already satisfied: setuptools>=41.0.0 in c:\\users\\loki99\\anaconda3\\envs\\chatbot_phase_3\\lib\\site-packages (from tensorboard<1.16.0,>=1.15.0->tensorflow==1.15) (45.2.0.post20200210)\n",
      "Requirement already satisfied: werkzeug>=0.11.15 in c:\\users\\loki99\\anaconda3\\envs\\chatbot_phase_3\\lib\\site-packages (from tensorboard<1.16.0,>=1.15.0->tensorflow==1.15) (0.14.1)\n",
      "Requirement already satisfied: h5py in c:\\users\\loki99\\anaconda3\\envs\\chatbot_phase_3\\lib\\site-packages (from keras-applications>=1.0.8->tensorflow==1.15) (2.10.0)\n",
      "Note: you may need to restart the kernel to use updated packages.\n"
     ]
    }
   ],
   "source": [
    "pip install tensorflow==1.15 --user\n"
   ]
  },
  {
   "cell_type": "code",
   "execution_count": 3,
   "metadata": {
    "_cell_guid": "b1076dfc-b9ad-4769-8c92-a6c4dae69d19",
    "_uuid": "8f2839f25d086af736a60e9eeb907d3b93b6e0e5"
   },
   "outputs": [
    {
     "name": "stdout",
     "output_type": "stream",
     "text": [
      "curses is not supported on this machine (please install/reinstall curses for an optimal experience)\n",
      "WARNING:tensorflow:From C:\\Users\\LOKI99\\Anaconda3\\envs\\chatbot_phase_3\\lib\\site-packages\\tflearn\\helpers\\summarizer.py:9: The name tf.summary.merge is deprecated. Please use tf.compat.v1.summary.merge instead.\n",
      "\n",
      "WARNING:tensorflow:From C:\\Users\\LOKI99\\Anaconda3\\envs\\chatbot_phase_3\\lib\\site-packages\\tflearn\\helpers\\trainer.py:25: The name tf.summary.FileWriter is deprecated. Please use tf.compat.v1.summary.FileWriter instead.\n",
      "\n",
      "WARNING:tensorflow:From C:\\Users\\LOKI99\\Anaconda3\\envs\\chatbot_phase_3\\lib\\site-packages\\tflearn\\collections.py:13: The name tf.GraphKeys is deprecated. Please use tf.compat.v1.GraphKeys instead.\n",
      "\n",
      "WARNING:tensorflow:From C:\\Users\\LOKI99\\Anaconda3\\envs\\chatbot_phase_3\\lib\\site-packages\\tflearn\\config.py:123: The name tf.get_collection is deprecated. Please use tf.compat.v1.get_collection instead.\n",
      "\n",
      "WARNING:tensorflow:From C:\\Users\\LOKI99\\Anaconda3\\envs\\chatbot_phase_3\\lib\\site-packages\\tflearn\\config.py:129: The name tf.add_to_collection is deprecated. Please use tf.compat.v1.add_to_collection instead.\n",
      "\n",
      "WARNING:tensorflow:From C:\\Users\\LOKI99\\Anaconda3\\envs\\chatbot_phase_3\\lib\\site-packages\\tflearn\\config.py:131: The name tf.assign is deprecated. Please use tf.compat.v1.assign instead.\n",
      "\n"
     ]
    }
   ],
   "source": [
    "import nltk\n",
    "from nltk.stem.lancaster import LancasterStemmer\n",
    "stemmer = LancasterStemmer()\n",
    "\n",
    "# things we need for Tensorflow\n",
    "import numpy as np\n",
    "import tflearn\n",
    "import tensorflow as tf\n",
    "import random"
   ]
  },
  {
   "cell_type": "code",
   "execution_count": 4,
   "metadata": {
    "_uuid": "1a10da399a40c2386b7a892db2f725bf2c2a4d91"
   },
   "outputs": [],
   "source": [
    "# import our chat-bot intents file\n",
    "import json\n",
    "with open(r'C:\\Users\\LOKI99\\Desktop\\python_clg_ project\\ChatBot_APP\\Chatbot_development_phase\\Chatbot_phase_3\\mail_json_data_file\\mail_intents.json') as json_data:\n",
    "    intents = json.load(json_data)"
   ]
  },
  {
   "cell_type": "code",
   "execution_count": 5,
   "metadata": {
    "_uuid": "f5bfc031e0908e044f0bb27ebd1fbf7bac7e66fe"
   },
   "outputs": [
    {
     "name": "stdout",
     "output_type": "stream",
     "text": [
      "144 documents\n",
      "21 classes ['bamc', 'bapej', 'bba', 'bcomaspm', 'bcombpm', 'bcomcomp', 'bcomgenbs', 'bcomhons', 'bcomhonssf', 'bcomiaf', 'bscas', 'bscbt', 'bsccds', 'bsccsesci', 'bsccsesys', 'bscct', 'bscet', 'bscfsnd', 'bscftm', 'bscma', 'bscmscs']\n",
      "65 unique stemmed words ['&', ',', 'account', 'admin', 'advert', 'agr', 'agricult', 'analys', 'and', 'anim', 'ba', 'bba', 'bcom', 'bio', 'bsc', 'bt', 'busy', 'chem', 'com', 'commun', 'comp', 'comput', 'ct', 'dat', 'detail', 'develop', 'dietet', 'electron', 'engin', 'engl', 'fin', 'food', 'ft', 'gen', 'genet', 'hon', 'i', 'iaf', 'in', 'intern', 'journ', 'man', 'mass', 'math', 'me', 'mscs', 'multimd', 'multimed', 'nutrit', 'of', 'process', 'promot', 'psycholog', 'rur', 'sal', 'sci', 'send', 'show', 'stat', 'strategic', 'study', 'system', 'technolog', 'the', 'want']\n"
     ]
    }
   ],
   "source": [
    "words = []\n",
    "classes = []\n",
    "documents = []\n",
    "ignore_words = ['?']\n",
    "# loop through each sentence in our intents patterns\n",
    "for intent in intents['intents']:\n",
    "    for pattern in intent['patterns']:\n",
    "        # tokenize each word in the sentence\n",
    "        w = nltk.word_tokenize(pattern)\n",
    "        # add to our words list\n",
    "        words.extend(w)\n",
    "        # add to documents in our corpus\n",
    "        documents.append((w, intent['tag']))\n",
    "        # add to our classes list\n",
    "        if intent['tag'] not in classes:\n",
    "            classes.append(intent['tag'])\n",
    "\n",
    "# stem and lower each word and remove duplicates\n",
    "words = [stemmer.stem(w.lower()) for w in words if w not in ignore_words]\n",
    "words = sorted(list(set(words)))\n",
    "\n",
    "# remove duplicates\n",
    "classes = sorted(list(set(classes)))\n",
    "\n",
    "print (len(documents), \"documents\")\n",
    "print (len(classes), \"classes\", classes)\n",
    "print (len(words), \"unique stemmed words\", words)"
   ]
  },
  {
   "cell_type": "code",
   "execution_count": 6,
   "metadata": {
    "_uuid": "d402102e6a2fe4b3d3abf6cf36338878c07402f8"
   },
   "outputs": [],
   "source": [
    "# create our training data\n",
    "training = []\n",
    "output = []\n",
    "# create an empty array for our output\n",
    "output_empty = [0] * len(classes)\n",
    "\n",
    "# training set, bag of words for each sentence\n",
    "for doc in documents:\n",
    "    # initialize our bag of words\n",
    "    bag = []\n",
    "    # list of tokenized words for the pattern\n",
    "    pattern_words = doc[0]\n",
    "    # stem each word\n",
    "    pattern_words = [stemmer.stem(word.lower()) for word in pattern_words]\n",
    "    # create our bag of words array\n",
    "    for w in words:\n",
    "        bag.append(1) if w in pattern_words else bag.append(0)\n",
    "\n",
    "    # output is a '0' for each tag and '1' for current tag\n",
    "    output_row = list(output_empty)\n",
    "    output_row[classes.index(doc[1])] = 1\n",
    "\n",
    "    training.append([bag, output_row])\n",
    "\n",
    "# shuffle our features and turn into np.array\n",
    "random.shuffle(training)\n",
    "training = np.array(training)\n",
    "\n",
    "# create train and test lists\n",
    "train_x = list(training[:,0])\n",
    "train_y = list(training[:,1])"
   ]
  },
  {
   "cell_type": "code",
   "execution_count": 7,
   "metadata": {},
   "outputs": [
    {
     "name": "stdout",
     "output_type": "stream",
     "text": [
      "Training Step: 26999  | total loss: \u001b[1m\u001b[32m14.98699\u001b[0m\u001b[0m | time: 0.040s\n",
      "| Adam | epoch: 1500 | loss: 14.98699 - acc: 0.0687 -- iter: 136/144\n",
      "Training Step: 27000  | total loss: \u001b[1m\u001b[32m14.92741\u001b[0m\u001b[0m | time: 0.042s\n",
      "| Adam | epoch: 1500 | loss: 14.92741 - acc: 0.0618 -- iter: 144/144\n",
      "--\n",
      "INFO:tensorflow:C:\\Users\\LOKI99\\Desktop\\python_clg_ project\\ChatBot_APP\\Chatbot_development_phase\\Chatbot_phase_3\\mail_model_file\\tanh_model\\mail_tanh_model.tflearn is not in all_model_checkpoint_paths. Manually adding it.\n"
     ]
    }
   ],
   "source": [
    "# reset underlying graph data\n",
    "tf.reset_default_graph()\n",
    "# Build neural network\n",
    "net = tflearn.input_data(shape=[None, len(train_x[0])])\n",
    "net = tflearn.fully_connected(net, 8)\n",
    "net = tflearn.fully_connected(net, 8)\n",
    "net = tflearn.fully_connected(net, len(train_y[0]), activation='tanh')\n",
    "net = tflearn.regression(net)\n",
    "\n",
    "\n",
    "# Define model and setup tensorboard\n",
    "model = tflearn.DNN(net, tensorboard_dir='tflearn_logs')\n",
    "# Start training (apply gradient descent algorithm)\n",
    "model.fit(train_x, train_y, n_epoch=1500, batch_size=8, show_metric=True)\n",
    "model.save(r'C:\\Users\\LOKI99\\Desktop\\python_clg_ project\\ChatBot_APP\\Chatbot_development_phase\\Chatbot_phase_3\\mail_model_file\\tanh_model\\mail_tanh_model.tflearn')"
   ]
  },
  {
   "cell_type": "code",
   "execution_count": 8,
   "metadata": {
    "_uuid": "d9ea1e5769bdd9c92282a502caa47a16db302ff5"
   },
   "outputs": [
    {
     "name": "stdout",
     "output_type": "stream",
     "text": [
      "Training Step: 35999  | total loss: \u001b[1m\u001b[32m0.03192\u001b[0m\u001b[0m | time: 0.053s\n",
      "| Adam | epoch: 1500 | loss: 0.03192 - acc: 0.9780 -- iter: 138/144\n",
      "Training Step: 36000  | total loss: \u001b[1m\u001b[32m0.02873\u001b[0m\u001b[0m | time: 0.055s\n",
      "| Adam | epoch: 1500 | loss: 0.02873 - acc: 0.9802 -- iter: 144/144\n",
      "--\n",
      "INFO:tensorflow:C:\\Users\\LOKI99\\Desktop\\python_clg_ project\\ChatBot_APP\\Chatbot_development_phase\\Chatbot_phase_3\\mail_model_file\\softmax_model\\mail_softmax_model.tflearn is not in all_model_checkpoint_paths. Manually adding it.\n"
     ]
    }
   ],
   "source": [
    "# reset underlying graph data\n",
    "tf.reset_default_graph()\n",
    "# Build neural network\n",
    "net = tflearn.input_data(shape=[None, len(train_x[0])])\n",
    "net = tflearn.fully_connected(net, 8)\n",
    "net = tflearn.fully_connected(net, 8)\n",
    "net = tflearn.fully_connected(net, len(train_y[0]), activation='softmax')\n",
    "net = tflearn.regression(net)\n",
    "\n",
    "# Define model and setup tensorboard\n",
    "model = tflearn.DNN(net, tensorboard_dir='tflearn_logs')\n",
    "# Start training (apply gradient descent algorithm)\n",
    "model.fit(train_x, train_y, n_epoch=1500, batch_size=6, show_metric=True)\n",
    "model.save(r'C:\\Users\\LOKI99\\Desktop\\python_clg_ project\\ChatBot_APP\\Chatbot_development_phase\\Chatbot_phase_3\\mail_model_file\\softmax_model\\mail_softmax_model.tflearn')"
   ]
  },
  {
   "cell_type": "code",
   "execution_count": 9,
   "metadata": {},
   "outputs": [
    {
     "name": "stdout",
     "output_type": "stream",
     "text": [
      "Training Step: 26999  | total loss: \u001b[1m\u001b[32mnan\u001b[0m\u001b[0m | time: 0.046s\n",
      "| Adam | epoch: 1500 | loss: nan - acc: 0.0393 -- iter: 136/144\n",
      "Training Step: 27000  | total loss: \u001b[1m\u001b[32mnan\u001b[0m\u001b[0m | time: 0.050s\n",
      "| Adam | epoch: 1500 | loss: nan - acc: 0.0354 -- iter: 144/144\n",
      "--\n",
      "INFO:tensorflow:C:\\Users\\LOKI99\\Desktop\\python_clg_ project\\ChatBot_APP\\Chatbot_development_phase\\Chatbot_phase_3\\mail_model_file\\relu_model\\mail_relu_model.tflearn is not in all_model_checkpoint_paths. Manually adding it.\n"
     ]
    }
   ],
   "source": [
    "# reset underlying graph data\n",
    "tf.reset_default_graph()\n",
    "# Build neural network\n",
    "net = tflearn.input_data(shape=[None, len(train_x[0])])\n",
    "net = tflearn.fully_connected(net, 8)\n",
    "net = tflearn.fully_connected(net, 8)\n",
    "net = tflearn.fully_connected(net, len(train_y[0]), activation='relu')\n",
    "net = tflearn.regression(net)\n",
    "\n",
    "# Define model and setup tensorboard\n",
    "model = tflearn.DNN(net, tensorboard_dir='tflearn_logs')\n",
    "# Start training (apply gradient descent algorithm)\n",
    "model.fit(train_x, train_y, n_epoch=1500, batch_size=8, show_metric=True)\n",
    "model.save(r'C:\\Users\\LOKI99\\Desktop\\python_clg_ project\\ChatBot_APP\\Chatbot_development_phase\\Chatbot_phase_3\\mail_model_file\\relu_model\\mail_relu_model.tflearn')"
   ]
  },
  {
   "cell_type": "code",
   "execution_count": 10,
   "metadata": {},
   "outputs": [],
   "source": [
    "import os\n",
    "os.chdir(r\"C:\\Users\\LOKI99\\Desktop\\python_clg_ project\\ChatBot_APP\\Chatbot_development_phase\\Chatbot_phase_3\\pickle_file_2\")"
   ]
  },
  {
   "cell_type": "code",
   "execution_count": 11,
   "metadata": {
    "_uuid": "f3df3637327eb3b2c2a63dfd2c34b1e8ffa135bb"
   },
   "outputs": [],
   "source": [
    "import pickle\n",
    "pickle.dump( {'words':words, 'classes':classes, 'train_x':train_x, 'train_y':train_y}, open( \"training_data\", \"wb\" ) )"
   ]
  },
  {
   "cell_type": "markdown",
   "metadata": {},
   "source": []
  },
  {
   "cell_type": "code",
   "execution_count": 12,
   "metadata": {
    "_uuid": "da5da061a3b18179176c491d0938412309823cff"
   },
   "outputs": [],
   "source": [
    "# restore all of our data structures\n",
    "import pickle\n",
    "data = pickle.load( open( \"training_data\", \"rb\" ) )\n",
    "words = data['words']\n",
    "classes = data['classes']\n",
    "train_x = data['train_x']\n",
    "train_y = data['train_y']\n",
    "\n",
    "# import our chat-bot intents file\n",
    "import json\n",
    "with open(r'C:\\Users\\LOKI99\\Desktop\\python_clg_ project\\ChatBot_APP\\Chatbot_development_phase\\Chatbot_phase_3\\mail_json_data_file\\mail_intents.json') as json_data:\n",
    "    intents = json.load(json_data)"
   ]
  },
  {
   "cell_type": "code",
   "execution_count": 13,
   "metadata": {
    "_uuid": "6dbca05cc97cd1c66896ec00a37bb0f932b02486"
   },
   "outputs": [
    {
     "name": "stdout",
     "output_type": "stream",
     "text": [
      "INFO:tensorflow:Restoring parameters from C:\\Users\\LOKI99\\Desktop\\python_clg_ project\\ChatBot_APP\\Chatbot_development_phase\\Chatbot_phase_3\\mail_model_file\\softmax_model\\mail_softmax_model.tflearn\n"
     ]
    }
   ],
   "source": [
    "# load our saved model\n",
    "model.load(r'C:\\Users\\LOKI99\\Desktop\\python_clg_ project\\ChatBot_APP\\Chatbot_development_phase\\Chatbot_phase_3\\mail_model_file\\softmax_model\\mail_softmax_model.tflearn')"
   ]
  },
  {
   "cell_type": "code",
   "execution_count": 14,
   "metadata": {
    "_uuid": "0c4c7d32c560284a20da8b659075347f8eee17b5"
   },
   "outputs": [],
   "source": [
    "def clean_up_sentence(sentence):\n",
    "    # tokenize the pattern\n",
    "    sentence_words = nltk.word_tokenize(sentence)\n",
    "    # stem each word\n",
    "    sentence_words = [stemmer.stem(word.lower()) for word in sentence_words]\n",
    "    return sentence_words\n",
    "\n",
    "# return bag of words array: 0 or 1 for each word in the bag that exists in the sentence\n",
    "def bow(sentence, words, show_details=False):\n",
    "    # tokenize the pattern\n",
    "    sentence_words = clean_up_sentence(sentence)\n",
    "    # bag of words\n",
    "    bag = [0]*len(words)  \n",
    "    for s in sentence_words:\n",
    "        for i,w in enumerate(words):\n",
    "            if w == s: \n",
    "                bag[i] = 1\n",
    "                if show_details:\n",
    "                    print (\"found in bag: %s\" % w)\n",
    "\n",
    "    return(np.array(bag))"
   ]
  },
  {
   "cell_type": "code",
   "execution_count": 15,
   "metadata": {
    "_uuid": "cc2796d65571e8fcfc2e9eb950f4049fd6404d11"
   },
   "outputs": [
    {
     "name": "stdout",
     "output_type": "stream",
     "text": [
      "[0 0 0 0 0 0 0 0 0 0 0 0 0 0 1 0 0 0 0 0 0 0 0 1 1 0 0 0 0 0 0 0 0 0 0 0 0\n",
      " 0 0 0 0 0 0 0 0 0 0 0 0 0 0 0 0 0 0 1 0 0 0 0 0 0 0 0 0]\n"
     ]
    }
   ],
   "source": [
    "p = bow(\"bsc data science details?\", words)\n",
    "print (p)"
   ]
  },
  {
   "cell_type": "code",
   "execution_count": 16,
   "metadata": {
    "_uuid": "4774b1be2f6419c305e36d45c4224452064128d8"
   },
   "outputs": [],
   "source": [
    "ERROR_THRESHOLD = 0.70\n",
    "def classify(sentence):\n",
    "    # generate probabilities from the model\n",
    "    results = model.predict([bow(sentence, words)])[0]\n",
    "    # filter out predictions below a threshold\n",
    "    results = [[i,r] for i,r in enumerate(results) if r>ERROR_THRESHOLD]\n",
    "    # sort by strength of probability\n",
    "    results.sort(key=lambda x: x[1], reverse=True)\n",
    "    return_list = []\n",
    "    for r in results:\n",
    "        return_list.append((classes[r[0]], r[1]))\n",
    "    # return tuple of intent and probability\n",
    "    return return_list\n",
    "\n",
    "def response(sentence, userID='123', show_details=False):\n",
    "    results = classify(sentence)\n",
    "    # if we have a classification then find the matching intent tag\n",
    "    if results:\n",
    "        # loop as long as there are matches to process\n",
    "        while results:\n",
    "            for i in intents['intents']:\n",
    "                # find a tag matching the first result\n",
    "                if i['tag'] == results[0][0]:\n",
    "                    # a random response from the intent\n",
    "                    return print(random.choice(i['responses']))\n",
    "\n",
    "            results.pop(0)"
   ]
  },
  {
   "cell_type": "code",
   "execution_count": 17,
   "metadata": {
    "_uuid": "2d33fdd0ff2fe8ab630ac2f3e51b2518e80ea99d"
   },
   "outputs": [
    {
     "data": {
      "text/plain": [
       "[('bsccds', 72.12529),\n",
       " ('bscfsnd', 55.920685),\n",
       " ('bsccsesci', 54.145397),\n",
       " ('bscas', 45.571934),\n",
       " ('bscct', 35.203674),\n",
       " ('bcomcomp', 31.658566),\n",
       " ('bcomhonssf', 25.189657),\n",
       " ('bscmscs', 23.035496)]"
      ]
     },
     "execution_count": 17,
     "metadata": {},
     "output_type": "execute_result"
    }
   ],
   "source": [
    "classify('bsc data science?')"
   ]
  },
  {
   "cell_type": "code",
   "execution_count": 18,
   "metadata": {
    "_uuid": "cf291929c66e80199c167b130e0016c96eb36a78"
   },
   "outputs": [
    {
     "name": "stdout",
     "output_type": "stream",
     "text": [
      "BSC_CDS.pdf\n",
      "BSC_CDS.pdf\n"
     ]
    }
   ],
   "source": [
    "response('bsc data science details?')\n",
    "response('bsc data science?')"
   ]
  },
  {
   "cell_type": "code",
   "execution_count": null,
   "metadata": {},
   "outputs": [],
   "source": []
  },
  {
   "cell_type": "code",
   "execution_count": null,
   "metadata": {},
   "outputs": [],
   "source": []
  },
  {
   "cell_type": "code",
   "execution_count": null,
   "metadata": {},
   "outputs": [],
   "source": []
  },
  {
   "cell_type": "code",
   "execution_count": 19,
   "metadata": {
    "_uuid": "d6b059c168f7bf2bb4e6b6c4feade99391b1a57d"
   },
   "outputs": [],
   "source": [
    "\n",
    "# create a data structure to hold user context\n",
    "context = {}\n",
    "\n",
    "ERROR_THRESHOLD = 0.25\n",
    "def classify(sentence):\n",
    "    # generate probabilities from the model\n",
    "    results = model.predict([bow(sentence, words)])[0]\n",
    "    # filter out predictions below a threshold\n",
    "    results = [[i,r] for i,r in enumerate(results) if r>ERROR_THRESHOLD]\n",
    "    # sort by strength of probability\n",
    "    results.sort(key=lambda x: x[1], reverse=True)\n",
    "    return_list = []\n",
    "    for r in results:\n",
    "        return_list.append((classes[r[0]], r[1]))\n",
    "    # return tuple of intent and probability\n",
    "    return return_list\n",
    "\n",
    "def response(sentence, userID='123', show_details=False):\n",
    "    results = classify(sentence)\n",
    "    # if we have a classification then find the matching intent tag\n",
    "    if results:\n",
    "        # loop as long as there are matches to process\n",
    "        while results:\n",
    "            for i in intents['intents']:\n",
    "                # find a tag matching the first result\n",
    "                if i['tag'] == results[0][0]:\n",
    "                    # set context for this intent if necessary\n",
    "                    if 'context_set' in i:\n",
    "                        if show_details: print ('context:', i['context_set'])\n",
    "                        context[userID] = i['context_set']\n",
    "\n",
    "                    # check if this intent is contextual and applies to this user's conversation\n",
    "                    if not 'context_filter' in i or \\\n",
    "                        (userID in context and 'context_filter' in i and i['context_filter'] == context[userID]):\n",
    "                        if show_details: print ('tag:', i['tag'])\n",
    "                        # a random response from the intent\n",
    "                        return print(random.choice(i['responses']))\n",
    "\n",
    "            results.pop(0)"
   ]
  },
  {
   "cell_type": "code",
   "execution_count": 20,
   "metadata": {
    "_uuid": "be17c3f144b7a63e7613a46ead41300c605bc5f6"
   },
   "outputs": [
    {
     "name": "stdout",
     "output_type": "stream",
     "text": [
      "BSc_Chemical_Technology.pdf\n",
      "\n",
      "context: \n",
      "tag: bscct\n",
      "BSc_Chemical_Technology.pdf\n",
      "\n"
     ]
    },
    {
     "data": {
      "text/plain": [
       "[('bcomiaf', 10.051929),\n",
       " ('bba', 8.115953),\n",
       " ('bscbt', 7.929493),\n",
       " ('bamc', 7.62119),\n",
       " ('bscma', 6.8402414),\n",
       " ('bscmscs', 5.7242503),\n",
       " ('bscftm', 4.9206724),\n",
       " ('bsccsesys', 4.1220913),\n",
       " ('bscas', 4.0502634),\n",
       " ('bapej', 3.8238585),\n",
       " ('bscct', 2.4711633),\n",
       " ('bscet', 1.9185051),\n",
       " ('bsccsesci', 1.5144707),\n",
       " ('bcomaspm', 1.1767172)]"
      ]
     },
     "execution_count": 20,
     "metadata": {},
     "output_type": "execute_result"
    }
   ],
   "source": [
    "response('what is the mission of loyola?')\n",
    "print ()\n",
    "response(\"what is the mission of loyola?\", show_details=True)\n",
    "print()\n",
    "classify(\"when was loyola college established?\")"
   ]
  },
  {
   "cell_type": "code",
   "execution_count": 1,
   "metadata": {},
   "outputs": [
    {
     "ename": "NameError",
     "evalue": "name 'response' is not defined",
     "output_type": "error",
     "traceback": [
      "\u001b[1;31m---------------------------------------------------------------------------\u001b[0m",
      "\u001b[1;31mNameError\u001b[0m                                 Traceback (most recent call last)",
      "\u001b[1;32m<ipython-input-1-daf73ef07e67>\u001b[0m in \u001b[0;36m<module>\u001b[1;34m\u001b[0m\n\u001b[1;32m----> 1\u001b[1;33m \u001b[0mresponse\u001b[0m\u001b[1;33m(\u001b[0m\u001b[1;34m'bsc data science details?'\u001b[0m\u001b[1;33m)\u001b[0m\u001b[1;33m\u001b[0m\u001b[1;33m\u001b[0m\u001b[0m\n\u001b[0m",
      "\u001b[1;31mNameError\u001b[0m: name 'response' is not defined"
     ]
    }
   ],
   "source": [
    "response('bsc data science details?')"
   ]
  },
  {
   "cell_type": "code",
   "execution_count": null,
   "metadata": {},
   "outputs": [],
   "source": []
  }
 ],
 "metadata": {
  "kernelspec": {
   "display_name": "Python 3",
   "language": "python",
   "name": "python3"
  },
  "language_info": {
   "codemirror_mode": {
    "name": "ipython",
    "version": 3
   },
   "file_extension": ".py",
   "mimetype": "text/x-python",
   "name": "python",
   "nbconvert_exporter": "python",
   "pygments_lexer": "ipython3",
   "version": "3.7.6"
  }
 },
 "nbformat": 4,
 "nbformat_minor": 4
}
