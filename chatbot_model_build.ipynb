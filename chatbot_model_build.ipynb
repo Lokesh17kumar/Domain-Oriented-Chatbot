{
 "cells": [
  {
   "cell_type": "code",
   "execution_count": 1,
   "metadata": {},
   "outputs": [],
   "source": [
    "#pip install tflearn\n"
   ]
  },
  {
   "cell_type": "code",
   "execution_count": 2,
   "metadata": {
    "scrolled": true
   },
   "outputs": [],
   "source": [
    "#pip install tensorflow==1.15 --user\n"
   ]
  },
  {
   "cell_type": "code",
   "execution_count": 32,
   "metadata": {},
   "outputs": [],
   "source": [
    "import warnings\n",
    "warnings.filterwarnings(\"ignore\") # to ignore warnings"
   ]
  },
  {
   "cell_type": "code",
   "execution_count": 33,
   "metadata": {
    "_cell_guid": "b1076dfc-b9ad-4769-8c92-a6c4dae69d19",
    "_uuid": "8f2839f25d086af736a60e9eeb907d3b93b6e0e5"
   },
   "outputs": [],
   "source": [
    "import nltk\n",
    "from nltk.stem.lancaster import LancasterStemmer\n",
    "stemmer = LancasterStemmer()\n",
    "\n",
    "# things we need for Tensorflow\n",
    "import numpy as np\n",
    "import tflearn\n",
    "import tensorflow as tf\n",
    "import random as rand"
   ]
  },
  {
   "cell_type": "code",
   "execution_count": 61,
   "metadata": {},
   "outputs": [],
   "source": [
    "clg_data = r\"C:\\Users\\LOKI99\\Desktop\\python_clg_ project\\ChatBot_APP\\Chatbot_development_phase\\Chatbot_phase_3\\college_json_data_file\\college_data.json\""
   ]
  },
  {
   "cell_type": "code",
   "execution_count": 62,
   "metadata": {
    "_uuid": "1a10da399a40c2386b7a892db2f725bf2c2a4d91"
   },
   "outputs": [],
   "source": [
    "# import our chat-bot intents file\n",
    "import json\n",
    "with open(clg_data) as json_data:\n",
    "    intents = json.load(json_data)"
   ]
  },
  {
   "cell_type": "code",
   "execution_count": 63,
   "metadata": {},
   "outputs": [
    {
     "data": {
      "text/plain": [
       "{'intents': [{'tag': 'Greetings',\n",
       "   'patterns': ['hi', 'hey', 'hello', 'namaste'],\n",
       "   'responses': ['hello', 'hey', 'hi', 'namaste'],\n",
       "   'context_set': ''},\n",
       "  {'tag': 'AboutBot',\n",
       "   'patterns': ['what is your name?',\n",
       "    'who are you?',\n",
       "    'what can you do?',\n",
       "    'what is your work?'],\n",
       "   'responses': ['Hey, I am loyola bot.I can answer your queries regarding loyola college'],\n",
       "   'context_set': ''},\n",
       "  {'tag': 'Built',\n",
       "   'patterns': ['how are you built?',\n",
       "    'how do you function?',\n",
       "    'how can you answer queries?',\n",
       "    'bot how do you work?',\n",
       "    'how were you developed?'],\n",
       "   'responses': [\"I'm a chatbot. I'm developed using deep learning & NLP technology\"],\n",
       "   'context_set': ''},\n",
       "  {'tag': 'Lacollege',\n",
       "   'patterns': ['what is loyola college?',\n",
       "    'what is loyola academy degree and pg college?',\n",
       "    'what is loyola academy?',\n",
       "    'loyola college?',\n",
       "    'loyola academy?'],\n",
       "   'responses': ['Loyola academy degree and pg college is a catholic miniority institution. Loyola college offers 21 UG courses along with 5 PG courses'],\n",
       "   'context_set': ''},\n",
       "  {'tag': 'TransFacility',\n",
       "   'patterns': ['does the college has transport facility',\n",
       "    'does the college provide transport facility',\n",
       "    'transport facility?',\n",
       "    'does loyola college provide transport facility?'],\n",
       "   'responses': ['Yes, the college does provide transport facility'],\n",
       "   'context_set': ''},\n",
       "  {'tag': 'Location',\n",
       "   'patterns': ['where is loyola academy situated?',\n",
       "    'where is loyola college situated?',\n",
       "    'where is loyola situated?',\n",
       "    'tell me the location of loyola?',\n",
       "    'loyola college location',\n",
       "    'where is the college situated?',\n",
       "    'college location?',\n",
       "    'where is the college situated'],\n",
       "   'responses': ['Loyola college is situated in old alwal, secunderabad, telengana, india.'],\n",
       "   'context_set': ''},\n",
       "  {'tag': 'Management',\n",
       "   'patterns': ['loyola college is managed by whom?',\n",
       "    'loyola academy is managed by whom?',\n",
       "    'who owns loyola college?',\n",
       "    'who owns loyola?',\n",
       "    'who manages the college?',\n",
       "    'college management?'],\n",
       "   'responses': ['Loyola college is managed and administered by the andhra jesuit Province, belonging to the society of jesus, an international catholic religious order.'],\n",
       "   'context_set': ''},\n",
       "  {'tag': 'Affiliation',\n",
       "   'patterns': ['loyola college is affiliated to which university?',\n",
       "    'loyola is affiliated to which university?',\n",
       "    'loyola academy is affiliated to which university?',\n",
       "    'does loyola college has any affiliation',\n",
       "    'college affiliation?'],\n",
       "   'responses': ['Loyola college is affiliated to the osmania university and was granted the status of autonomy in 1992 by the university grant comission'],\n",
       "   'context_set': ''},\n",
       "  {'tag': 'Founder',\n",
       "   'patterns': ['who is the founder of the college?',\n",
       "    'who is the founder of loyola?',\n",
       "    'who founded loyola college?',\n",
       "    'who founded loyola?',\n",
       "    'college founder?'],\n",
       "   'responses': ['Rev fr t baliah SJ is the founder of the loyola academy junior as well as loyola academy degree & pg college'],\n",
       "   'context_set': ''},\n",
       "  {'tag': 'Established',\n",
       "   'patterns': ['when was loyola college established?',\n",
       "    'in which year was the college founded?',\n",
       "    'when was loyola ug and pg college was founded?',\n",
       "    'in which year was the college established?',\n",
       "    'when was college founded?'],\n",
       "   'responses': ['Loyola academy degree & pg college was established in the year 1978'],\n",
       "   'context_set': ''},\n",
       "  {'tag': 'CampusArea',\n",
       "   'patterns': ['what is the campus area of the college?',\n",
       "    'what is the campus area of loyola?',\n",
       "    'what is the campus area?',\n",
       "    'campus area?',\n",
       "    'campus area of the college?'],\n",
       "   'responses': ['Loyola college has a campus area of 138 acres, with playfields and farm.'],\n",
       "   'context_set': ''},\n",
       "  {'tag': 'CollegeDetails',\n",
       "   'patterns': ['give me some details about loyola?',\n",
       "    'i want some details about the college?',\n",
       "    'tell me something about loyola?',\n",
       "    'tell me something about the college?',\n",
       "    'give me some details about the college?',\n",
       "    'tell me something about loyola academy?',\n",
       "    'loyola college details?',\n",
       "    'college details?',\n",
       "    'tell me about the college?'],\n",
       "   'responses': [\"1. loyola college is a catholic minority institution\\n2. education world ranked loyola college 1st at state level & 11th at national level\\n3. NAAC re-accredited loyola college in 2019 & awarded an 'A' grade\\n4. our vast campus which is approx 132 acres, makes us hyderabad's largest private college\\n5. loyola college has a total of 6 blocks,own weather station & reverse osmosis water purification unit\\n7. loyola emphasizes as much on practical understanding as on theory, with a total of 28 labs.\"],\n",
       "   'context_set': ''},\n",
       "  {'tag': 'CollegeRankings',\n",
       "   'patterns': ['what is the rank of the college?',\n",
       "    'what is the rank of loyola college?',\n",
       "    'what is the rank of loyola academy?',\n",
       "    'what is the rank of loyola?',\n",
       "    'what is the college rating?',\n",
       "    'college rank?',\n",
       "    'rank of the college?'],\n",
       "   'responses': ['1. education world ranked loyola college 1st at state level & 11th at national level\\n2. india today rated the loyola college for the 3rd consecutive year by giving 1st rank among the city colleges of hyderabad & secunderabad for commerce, science & arts'],\n",
       "   'context_set': ''},\n",
       "  {'tag': 'CollegeVision',\n",
       "   'patterns': ['what is the vision of the college?',\n",
       "    'what is the vision of the loyola college?',\n",
       "    'what is the vision of loyola academy?',\n",
       "    'what is the vision of loyola?',\n",
       "    'college vision?',\n",
       "    'vision of the college?'],\n",
       "   'responses': ['To impart higher education with integral formation which involves academic excellence, spiritual growth, social commitment and value based leadership.'],\n",
       "   'context_set': ''},\n",
       "  {'tag': 'CollegeMission',\n",
       "   'patterns': ['what is the mission of the college?',\n",
       "    'what is the mission of the loyola college?',\n",
       "    'what is the mission of loyola academy?',\n",
       "    'what is the mission of loyola?',\n",
       "    'mission of the college?',\n",
       "    'college mission'],\n",
       "   'responses': [\"It is to form 'men and women for others' and mould our students as global citizens with competence, conscience and compassionate commitment & Special concern is shown towards the socially and economically underprivileged students.\"],\n",
       "   'context_set': ''},\n",
       "  {'tag': 'Principal',\n",
       "   'patterns': ['who is the principal of the college?',\n",
       "    'who is the principal of loyola?',\n",
       "    'who is the principal of loyola academy?',\n",
       "    'who is the principal of loyola college?',\n",
       "    'college principal',\n",
       "    'principal of the loyola college?',\n",
       "    'principal?'],\n",
       "   'responses': ['The principal of the loyola college is Rev Fr Dr Pothireddy Anthony SJ.'],\n",
       "   'context_set': ''},\n",
       "  {'tag': 'VicePrincipal',\n",
       "   'patterns': ['who is the vice principal of the college?',\n",
       "    'who is the vice principal of loyola?',\n",
       "    'who is the vice principal of loyola academy?',\n",
       "    'who is the vice principal of loyola college?',\n",
       "    'vice principal of the college?',\n",
       "    'vice principal?'],\n",
       "   'responses': ['1. Rev Fr Dr L Joji Reddy SJ is the vice principal of loyola pg college\\n 2. Rev Fr Dr Balaswamy Sj is the vice principal of loyola ug college'],\n",
       "   'context_set': ''},\n",
       "  {'tag': 'Rector',\n",
       "   'patterns': ['who is the rector of the college?',\n",
       "    'who is the rector of loyola?',\n",
       "    'who is the rector of loyola academy?',\n",
       "    'who is the rector of loyola college?',\n",
       "    'rector of the college?',\n",
       "    'rector'],\n",
       "   'responses': ['Rev Fr Raju Soosaimanickam is the rector of the college.'],\n",
       "   'context_set': ''},\n",
       "  {'tag': 'Correspondent',\n",
       "   'patterns': ['who is the correspondent of the college?',\n",
       "    'who is the correspondent of loyola?',\n",
       "    'who is the correspondent of loyola academy?',\n",
       "    'who is the correspondent of loyola acedemy?',\n",
       "    'who is the correspondent of loyola college?',\n",
       "    'correspondent of the college?'],\n",
       "   'responses': ['Rev Fr P Gnanadevan Swaminathan SJ is the correspondent of the college.'],\n",
       "   'context_set': ''},\n",
       "  {'tag': 'CollegeFacilities',\n",
       "   'patterns': ['what are the facilities provided by the college?',\n",
       "    'what are the facilities provided by loyola?',\n",
       "    'what are the facilities provided by loyola academy?',\n",
       "    'what are the facilities provided by the college?',\n",
       "    'college facilities?',\n",
       "    'loyola college facilities'],\n",
       "   'responses': ['1. Boys hostel\\n2. Girls hostel\\n3. GYM\\n4. Library\\n5. Sports\\n6. Cafeteria\\n7. Auditorium\\n8. Medical\\n9. wifi\\n10. IT infrastructure\\n11. Laboratories\\n12. Alumni associations\\n13. Guest room'],\n",
       "   'context_set': ''},\n",
       "  {'tag': 'LoyolaAcademics',\n",
       "   'patterns': ['tell me about academics at loyola',\n",
       "    'tell me about academics at loyola college?',\n",
       "    'tell me about academics at the college',\n",
       "    'how are academics at loyola?',\n",
       "    'how are academics at loyola college?',\n",
       "    'how are academics at the college?',\n",
       "    'college academics?',\n",
       "    'academics at loyola?'],\n",
       "   'responses': ['1. Academics form the core of the loyola academy mission & we truly offer a world class experience\\n2. Across our courses, infrastructure, faculty & evaluation methods, students are exposed to the very best of collegiate education\\n3. Just a few numbers summarizing academics at loyola : 4105 students, 26 courses, 68 support staff, 148 faculty'],\n",
       "   'context_set': ''},\n",
       "  {'tag': 'LoyolaCourses',\n",
       "   'patterns': ['show me the list of courses offered by loyola?',\n",
       "    'what are the courses that are offered by loyola?',\n",
       "    'what are the courses that are offered by the loyola college?',\n",
       "    'what are the courses offered by the college?',\n",
       "    'courses offered by loyola?',\n",
       "    'courses offered by the college?',\n",
       "    'courses offered by loyola academy?',\n",
       "    'courses offered?',\n",
       "    'college courses?'],\n",
       "   'responses': ['Courses offered by the loyola college are:-\\n1.Under Graduate courses\\n2. Post Graduate courses\\n3. Foundation courses'],\n",
       "   'context_set': ''},\n",
       "  {'tag': 'UgCourses',\n",
       "   'patterns': ['show me the list of ug courses',\n",
       "    'list of ug courses offered at loyola',\n",
       "    'list of ug courses offered by the college?',\n",
       "    'list of ug courses offered at loyola academy',\n",
       "    'ug courses',\n",
       "    'list of ug courses?',\n",
       "    'ug courses list?'],\n",
       "   'responses': ['1.  BSc - Chemical Technology\\n2.  BSc(Honours) - in  Agriculture Science and Rural Development\\n3  BSc - Computer Science and Engineering\\n4  BCom Honors\\n5.  BSc - Electronics Technology\\n6.  BSc - Computer Systems & Engineering\\n7.  BCom - Advertising, Sales Promotion & Sales Management\\n8.  BSc - Biotechnology, Chemistry & Genetics\\n9.  BCom - General / Business Studies\\n10. BA - Mass Communication\\n11. BSc - Food Technology and Management\\n12. BA - Psychology, English & Journalism\\n13. BSc - Maths, Statistics & Computer Science\\n14. BSc - Multimedia and Animation\\n15. BCom - Computers\\n16. BBA - Bachelor of Business Administration\\n17. BCom - International Accounting & Finance\\n18. BSc - Computer Data Science & Analytics Engineering\\n19. BCom(Honors) - in Strategic Finance\\n20. BCom - Business Process Management\\n21. BSc - Food Science, Nutrition & Dietetics '],\n",
       "   'context_set': ''},\n",
       "  {'tag': 'PgCourses',\n",
       "   'patterns': ['show me the list of pg courses',\n",
       "    'list of pg courses offered at loyola',\n",
       "    'list of pg courses offered by the college?',\n",
       "    'list of pg courses offered at loyola academy',\n",
       "    'pg courses',\n",
       "    'pg courses list?',\n",
       "    'list of pg courses?'],\n",
       "   'responses': ['1. MCA - Master of Computer Applications\\n2. MBA - Master of Business Administration\\n3. MSc - Organic Chemistry\\n4. MSc - Bio Technology\\n5. MSc - Food Technology & Management.'],\n",
       "   'context_set': ''},\n",
       "  {'tag': 'ScienceCourses',\n",
       "   'patterns': ['show me the list of science courses',\n",
       "    'list of science courses offered at loyola',\n",
       "    'list of science courses offered by the college?',\n",
       "    'list of science courses offered at loyola academy',\n",
       "    'science courses',\n",
       "    'list of science courses?',\n",
       "    'science courses list'],\n",
       "   'responses': ['1. BSc - Chemical Technology\\n2. BSc (Honors) - Agriculture Science and Rural Development\\n3. BSc - Computer Science and Engineering\\n4. BSc - Electronics Technology\\n5. BSc - Computer Systems & Engineering\\n6. BSc - Biotechnology, Chemistry & Genetics\\n7. BSc - Food Technology and Management\\n8. BSc - Maths, Statistics & Computer Science\\n9. BSc - Multimedia and Animation\\n10.  BSc - Computer Data Science & Analytics Engineering\\n11. BSc - Food Science, Nutrition & Dietetics\\n12. MSc - Organic Chemistry\\n13. MSc - Biotechnology\\n14. MSc - Food Technology & Management'],\n",
       "   'context_set': ''},\n",
       "  {'tag': 'CommerceCourses',\n",
       "   'patterns': ['show me the list of commerce courses',\n",
       "    'list of commerce courses offered at loyola',\n",
       "    'list of commerce courses offered by the college?',\n",
       "    'list of commerce courses offered at loyola academy',\n",
       "    'commerce courses',\n",
       "    'commerce courses?',\n",
       "    'commerce courses list',\n",
       "    'list of commerce courses'],\n",
       "   'responses': ['1. BCom Honors\\n2. BCom - Advertising, Sales Promotion & Sales Management\\n3. BCom - General / Business Studies\\n4. BCom - Computers\\n5. BCom - International Accounting & Finance\\n6. BCom - Honors in Strategic Finance\\n7. BCom - Business Process Management'],\n",
       "   'context_set': ''},\n",
       "  {'tag': 'ArtsCourses',\n",
       "   'patterns': ['show me the list of arts courses',\n",
       "    'list of arts courses offered at loyola',\n",
       "    'list of arts courses offered by the college?',\n",
       "    'list of arts courses offered at loyola academy',\n",
       "    'arts courses',\n",
       "    'arts courses list?',\n",
       "    'list of arts courses?'],\n",
       "   'responses': ['1. BA - Mass Communication\\n2. BA - Psychology, English & Journalism'],\n",
       "   'context_set': ''},\n",
       "  {'tag': 'BusinessCourses',\n",
       "   'patterns': ['show me the list of business courses',\n",
       "    'list of business courses offered at loyola',\n",
       "    'list of business courses offered by the college?',\n",
       "    'list of business courses offered at loyola academy',\n",
       "    'business courses',\n",
       "    'business courses list?',\n",
       "    'list of business courses?'],\n",
       "   'responses': ['1. BBA - Bachelor of Business Administration\\n2. MBA - Master of Business Administration'],\n",
       "   'context_set': ''},\n",
       "  {'tag': 'ItCourses',\n",
       "   'patterns': ['show me the list of it courses',\n",
       "    'list of it courses offered at loyola',\n",
       "    'list of it courses offered by the college?',\n",
       "    'list of it courses offered at loyola academy',\n",
       "    'it courses',\n",
       "    'list of it courses',\n",
       "    'it courses list?'],\n",
       "   'responses': ['1. MCA Master of Computer Applications '],\n",
       "   'context_set': ''},\n",
       "  {'tag': 'FoundationCourses',\n",
       "   'patterns': ['show me the list of foundation courses',\n",
       "    'list of foundation courses offered at loyola',\n",
       "    'list of foundation courses offered by the college?',\n",
       "    'what are foundation courses?',\n",
       "    'foundation courses',\n",
       "    'what are foundation courses?',\n",
       "    'foundation courses?'],\n",
       "   'responses': ['Foundation course aims to impart the values, that are not only useful in personal life but also serve as a strong foundation for careers\\nThe following are the foundation courses offered by the college:\\n1. English\\n2. Value Education\\n3. Indian Culture\\n4. Environmental Studies'],\n",
       "   'context_set': ''},\n",
       "  {'tag': 'AdmissionProcedure',\n",
       "   'patterns': ['what is the admission procedure?',\n",
       "    'how to get admission at loyola?',\n",
       "    'what is the admission procedure of the college?',\n",
       "    'how to get admission at the college?',\n",
       "    'admission procedure?',\n",
       "    'how to get admission in loyola?',\n",
       "    'how to get admission in the college?'],\n",
       "   'responses': ['1. Register and Apply :\\nInterested candidates can apply offline with required information\\n2. Entrance Test:\\nEligible candidates need to appear for an entrance test conducted by Loyola Academy Degree and PG College\\n3. Personal Interview:\\nShortlisted candidates will be called for a personal interview based on the marks obtained in the entrance test'],\n",
       "   'context_set': ''},\n",
       "  {'tag': 'semexams',\n",
       "   'patterns': ['what is the exam pattern at loyola?',\n",
       "    'how are semester exams organized?',\n",
       "    'how semester exams are evaluated?',\n",
       "    'how are semester exams evaluated?',\n",
       "    'how exams are conducted in loyola?',\n",
       "    'how exams are conducted in the college?',\n",
       "    'college exam pattern?'],\n",
       "   'responses': ['1. Weekly Assignments\\n2. Mid-Semesters\\n3. Other Markers\\nInclude viva voce, seminars, attendance & assessments\\n4. Semester-End Exams'],\n",
       "   'context_set': ''},\n",
       "  {'tag': 'researchprogrammes',\n",
       "   'patterns': ['does loyola organize research programmes?',\n",
       "    'tell me about research programmes at loyola?',\n",
       "    'research at loyola?'],\n",
       "   'responses': ['Research programs are a way of life here at Loyola, more and more faculty are joining the trend. '],\n",
       "   'context_set': ''},\n",
       "  {'tag': 'awardshonours',\n",
       "   'patterns': ['does loyola honour students for their performance?',\n",
       "    'does loyola offers awards and honours?',\n",
       "    'does the college offer students with honours and rewards for their performance?',\n",
       "    'awards and honours at loyola?'],\n",
       "   'responses': ['loyola offers awards and honours in:\\n1. Monetary scholarships and other awards based on academic performances\\n2. Prizes for extraordinary performances in sports\\n3. Prizes for displaying leadership\\n4. Prizes for all-round performances'],\n",
       "   'context_set': ''},\n",
       "  {'tag': 'academicawards',\n",
       "   'patterns': ['does loyola offer students rewards for their excellence in various academics?',\n",
       "    'does the college offer students awards in extra curricular activities?',\n",
       "    'academic awards',\n",
       "    'academic awards at loyola?'],\n",
       "   'responses': ['Awards in various Academic & extra curricular activities :\\n1. Merit scholarships for academic achievers\\n2. Prizes for achievements in sports\\n3. Prizes for extraordinary achievements'],\n",
       "   'context_set': ''},\n",
       "  {'tag': 'fulltimedegree',\n",
       "   'patterns': ['how to recieve a full time degree after completion of the course?',\n",
       "    'how to recieve a full time degree from loyola?',\n",
       "    'how to recieve a full time degree from the college?',\n",
       "    'how to earn a degree certificate?',\n",
       "    'how to claim the degree certificate?'],\n",
       "   'responses': ['1. A student needs to have a minimum of 75% attendance\\n2. A minimum of 40% on CIA, 40% on SEE theory, and 50% on SEE practicals\\n3. Re-examinations are not conducted except under extraordinary circumstances and at the Principalâ€™s discretion\\n4. The SEE will be in the form of a comprehensive written examination for each course at the end of the semester and most of the subjects have practical exams too'],\n",
       "   'context_set': ''},\n",
       "  {'tag': 'placementdetails',\n",
       "   'patterns': ['how are placements at loyola?',\n",
       "    'how are placements at the college?',\n",
       "    'how are placements at loyola academy?',\n",
       "    'i need placement details?',\n",
       "    'tell me about placements at loyola?',\n",
       "    'tell me about campus placements?',\n",
       "    'placements at loyola',\n",
       "    'placements at the college?'],\n",
       "   'responses': ['The following are some of the placement details :\\n1. 350k pa. Companies gladly pay for our talent pool.\\n2. 100 companies \\n3. 300 jobs in 2018\\n4. We place students only in the best companies\\n5. 600 internships'],\n",
       "   'context_set': ''},\n",
       "  {'tag': 'TopComp',\n",
       "   'patterns': ['some of the top recruiting companies?',\n",
       "    'top companies at the campus placements?',\n",
       "    'top recruiting companies at loyola?',\n",
       "    'top recruiting companies?'],\n",
       "   'responses': ['some of the top companies are Amazon,DELL,Deloitte,Cognizant,Goldman Sachs,Infosys, and so on '],\n",
       "   'context_set': ''},\n",
       "  {'tag': 'ContactDetails',\n",
       "   'patterns': ['how should i contact the college?',\n",
       "    'i need contact details of loyola college?',\n",
       "    'loyola college contact details',\n",
       "    'contact details?'],\n",
       "   'responses': ['the following are the contact details:\\n1. ph.no : 91-040-27862363\\n2. email : laacademymyinformation@yahoo.in'],\n",
       "   'context_set': ''}]}"
      ]
     },
     "execution_count": 63,
     "metadata": {},
     "output_type": "execute_result"
    }
   ],
   "source": [
    "intents"
   ]
  },
  {
   "cell_type": "code",
   "execution_count": 64,
   "metadata": {
    "_uuid": "f5bfc031e0908e044f0bb27ebd1fbf7bac7e66fe"
   },
   "outputs": [
    {
     "name": "stdout",
     "output_type": "stream",
     "text": [
      "235 documents\n",
      "39 classes ['AboutBot', 'AdmissionProcedure', 'Affiliation', 'ArtsCourses', 'Built', 'BusinessCourses', 'CampusArea', 'CollegeDetails', 'CollegeFacilities', 'CollegeMission', 'CollegeRankings', 'CollegeVision', 'CommerceCourses', 'ContactDetails', 'Correspondent', 'Established', 'FoundationCourses', 'Founder', 'Greetings', 'ItCourses', 'Lacollege', 'Location', 'LoyolaAcademics', 'LoyolaCourses', 'Management', 'PgCourses', 'Principal', 'Rector', 'ScienceCourses', 'TopComp', 'TransFacility', 'UgCourses', 'VicePrincipal', 'academicawards', 'awardshonours', 'fulltimedegree', 'placementdetails', 'researchprogrammes', 'semexams']\n",
      "127 unique stemmed words ['a', 'about', 'academ', 'academy', 'acedemy', 'act', 'admit', 'affy', 'aft', 'and', 'answ', 'any', 'ar', 'are', 'art', 'at', 'award', 'bot', 'built', 'busy', 'by', 'camp', 'can', 'cert', 'claim', 'colleg', 'commerc', 'company', 'complet', 'conduc', 'contact', 'correspond', 'cours', 'curricul', 'degr', 'detail', 'develop', 'do', 'doe', 'earn', 'est', 'evalu', 'exam', 'excel', 'extr', 'facil', 'for', 'found', 'from', 'ful', 'funct', 'get', 'giv', 'has', 'hello', 'hey', 'hi', 'hono', 'how', 'i', 'in', 'is', 'it', 'list', 'loc', 'loyol', 'man', 'me', 'miss', 'nam', 'namast', 'nee', 'of', 'off', 'org', 'own', 'pattern', 'perform', 'pg', 'plac', 'princip', 'proc', 'program', 'provid', 'query', 'rank', 'rat', 'reciev', 'recruit', 'rect', 'research', 'reward', 'sci', 'semest', 'should', 'show', 'situ', 'som', 'someth', 'stud', 'tel', 'that', 'the', 'their', 'tim', 'to', 'top', 'transport', 'ug', 'univers', 'vary', 'vic', 'vis', 'want', 'was', 'wer', 'what', 'when', 'wher', 'which', 'who', 'whom', 'with', 'work', 'year', 'yo', 'you']\n"
     ]
    }
   ],
   "source": [
    "words = []\n",
    "classes = []\n",
    "documents = []\n",
    "ignore_words = ['?']\n",
    "# loop through each sentence in our intents patterns\n",
    "for intent in intents['intents']:\n",
    "    for pattern in intent['patterns']:\n",
    "        # tokenize each word in the sentence\n",
    "        w = nltk.word_tokenize(pattern)\n",
    "        # add to our words list\n",
    "        words.extend(w)\n",
    "        # add to documents in our corpus\n",
    "        documents.append((w, intent['tag']))\n",
    "        # add to our classes list\n",
    "        if intent['tag'] not in classes:\n",
    "            classes.append(intent['tag'])\n",
    "\n",
    "# stem and lower each word and remove duplicates\n",
    "words = [stemmer.stem(w.lower()) for w in words if w not in ignore_words]\n",
    "words = sorted(list(set(words)))\n",
    "\n",
    "# remove duplicates\n",
    "classes = sorted(list(set(classes)))\n",
    "\n",
    "print (len(documents), \"documents\")\n",
    "print (len(classes), \"classes\", classes)\n",
    "print (len(words), \"unique stemmed words\", words)"
   ]
  },
  {
   "cell_type": "code",
   "execution_count": 65,
   "metadata": {
    "_uuid": "d402102e6a2fe4b3d3abf6cf36338878c07402f8"
   },
   "outputs": [],
   "source": [
    "# create our training data\n",
    "training = []\n",
    "output = []\n",
    "# create an empty array for our output\n",
    "output_empty = [0] * len(classes)\n",
    "\n",
    "# training set, bag of words for each sentence\n",
    "for doc in documents:\n",
    "    # initialize our bag of words\n",
    "    bag = []\n",
    "    # list of tokenized words for the pattern\n",
    "    pattern_words = doc[0]\n",
    "    # stem each word\n",
    "    pattern_words = [stemmer.stem(word.lower()) for word in pattern_words]\n",
    "    # create our bag of words array\n",
    "    for w in words:\n",
    "        bag.append(1) if w in pattern_words else bag.append(0)\n",
    "\n",
    "    # output is a '0' for each tag and '1' for current tag\n",
    "    output_row = list(output_empty)\n",
    "    output_row[classes.index(doc[1])] = 1\n",
    "\n",
    "    training.append([bag, output_row])\n",
    "\n",
    "# shuffle our features and turn into np.array\n",
    "rand.shuffle(training)\n",
    "training = np.array(training)\n",
    "\n",
    "# create train and test lists\n",
    "train_x = list(training[:,0])\n",
    "train_y = list(training[:,1])"
   ]
  },
  {
   "cell_type": "code",
   "execution_count": 66,
   "metadata": {
    "_uuid": "d9ea1e5769bdd9c92282a502caa47a16db302ff5",
    "scrolled": false
   },
   "outputs": [
    {
     "name": "stdout",
     "output_type": "stream",
     "text": [
      "Training Step: 29999  | total loss: \u001b[1m\u001b[32m0.00009\u001b[0m\u001b[0m | time: 0.171s\n",
      "| Adam | epoch: 1000 | loss: 0.00009 - acc: 1.0000 -- iter: 232/235\n",
      "Training Step: 30000  | total loss: \u001b[1m\u001b[32m0.00012\u001b[0m\u001b[0m | time: 0.176s\n",
      "| Adam | epoch: 1000 | loss: 0.00012 - acc: 1.0000 -- iter: 235/235\n",
      "--\n",
      "INFO:tensorflow:C:\\Users\\LOKI99\\Desktop\\python_clg_ project\\ChatBot_APP\\Chatbot_development_phase\\Chatbot_phase_3\\college_model_file\\softmax_model\\college_softmax_model.tflearn is not in all_model_checkpoint_paths. Manually adding it.\n"
     ]
    }
   ],
   "source": [
    "# reset underlying graph data\n",
    "tf.reset_default_graph()\n",
    "# Build neural network\n",
    "net = tflearn.input_data(shape=[None, len(train_x[0])])\n",
    "net = tflearn.fully_connected(net, 8)\n",
    "net = tflearn.fully_connected(net, 8)\n",
    "net = tflearn.fully_connected(net, len(train_y[0]), activation='softmax')\n",
    "net = tflearn.regression(net)\n",
    "\n",
    "# Define model and setup tensorboard\n",
    "model = tflearn.DNN(net, tensorboard_dir='tflearn_logs')\n",
    "\n",
    "model.fit(train_x, train_y, n_epoch=1000, batch_size=8, show_metric=True)\n",
    "model.save(r'C:\\Users\\LOKI99\\Desktop\\python_clg_ project\\ChatBot_APP\\Chatbot_development_phase\\Chatbot_phase_3\\college_model_file\\softmax_model\\college_softmax_model.tflearn')"
   ]
  },
  {
   "cell_type": "code",
   "execution_count": 67,
   "metadata": {},
   "outputs": [],
   "source": [
    "import os\n",
    "os.chdir(r\"C:\\Users\\LOKI99\\Desktop\\python_clg_ project\\ChatBot_APP\\Chatbot_development_phase\\Chatbot_phase_3\\pickle_file_1\")"
   ]
  },
  {
   "cell_type": "code",
   "execution_count": 68,
   "metadata": {
    "_uuid": "f3df3637327eb3b2c2a63dfd2c34b1e8ffa135bb"
   },
   "outputs": [],
   "source": [
    "import pickle\n",
    "pickle.dump( {'words':words, 'classes':classes, 'train_x':train_x, 'train_y':train_y}, open( \"training_data\", \"wb\" ) )"
   ]
  },
  {
   "cell_type": "markdown",
   "metadata": {},
   "source": []
  },
  {
   "cell_type": "code",
   "execution_count": 69,
   "metadata": {
    "_uuid": "da5da061a3b18179176c491d0938412309823cff"
   },
   "outputs": [],
   "source": [
    "# restore all of our data structures\n",
    "import pickle\n",
    "data = pickle.load( open( \"training_data\", \"rb\" ) )\n",
    "words = data['words']\n",
    "classes = data['classes']\n",
    "train_x = data['train_x']\n",
    "train_y = data['train_y']\n",
    "\n",
    "# import our chat-bot intents file\n",
    "import json\n",
    "with open(clg_data) as json_data:\n",
    "    intents = json.load(json_data)"
   ]
  },
  {
   "cell_type": "code",
   "execution_count": 70,
   "metadata": {
    "_uuid": "6dbca05cc97cd1c66896ec00a37bb0f932b02486"
   },
   "outputs": [
    {
     "name": "stdout",
     "output_type": "stream",
     "text": [
      "INFO:tensorflow:Restoring parameters from C:\\Users\\LOKI99\\Desktop\\python_clg_ project\\ChatBot_APP\\Chatbot_development_phase\\Chatbot_phase_3\\college_model_file\\softmax_model\\college_softmax_model.tflearn\n"
     ]
    }
   ],
   "source": [
    "# load our saved model\n",
    "model.load(r'C:\\Users\\LOKI99\\Desktop\\python_clg_ project\\ChatBot_APP\\Chatbot_development_phase\\Chatbot_phase_3\\college_model_file\\softmax_model\\college_softmax_model.tflearn')"
   ]
  },
  {
   "cell_type": "code",
   "execution_count": 71,
   "metadata": {
    "_uuid": "0c4c7d32c560284a20da8b659075347f8eee17b5"
   },
   "outputs": [],
   "source": [
    "def clean_up_sentence(sentence):\n",
    "    # tokenize the pattern\n",
    "    sentence_words = nltk.word_tokenize(sentence)\n",
    "    # stem each word\n",
    "    sentence_words = [stemmer.stem(word.lower()) for word in sentence_words]\n",
    "    return sentence_words\n",
    "\n",
    "# return bag of words array: 0 or 1 for each word in the bag that exists in the sentence\n",
    "def bow(sentence, words, show_details=False):\n",
    "    # tokenize the pattern\n",
    "    sentence_words = clean_up_sentence(sentence)\n",
    "    # bag of words\n",
    "    bag = [0]*len(words)  \n",
    "    for s in sentence_words:\n",
    "        for i,w in enumerate(words):\n",
    "            if w == s: \n",
    "                bag[i] = 1\n",
    "                if show_details:\n",
    "                    print (\"found in bag: %s\" % w)\n",
    "\n",
    "    return(np.array(bag))"
   ]
  },
  {
   "cell_type": "code",
   "execution_count": 72,
   "metadata": {
    "_uuid": "cc2796d65571e8fcfc2e9eb950f4049fd6404d11"
   },
   "outputs": [
    {
     "name": "stdout",
     "output_type": "stream",
     "text": [
      "[0 0 0 0 0 0 0 0 0 0 0 0 0 0 0 0 0 0 0 0 0 0 0 0 0 1 0 0 0 0 0 0 0 0 0 0 0\n",
      " 0 0 0 0 0 0 0 0 0 0 0 0 0 0 0 0 0 0 0 0 0 0 0 0 0 0 0 0 1 0 0 0 0 0 0 0 0\n",
      " 0 0 0 0 0 0 0 0 0 0 0 0 0 0 0 0 0 0 0 0 0 0 0 0 0 0 0 0 0 0 0 0 0 0 0 0 0\n",
      " 0 0 0 0 0 0 0 0 0 0 0 0 0 0 0 0]\n"
     ]
    }
   ],
   "source": [
    "p = bow(\"loyola college?\", words)\n",
    "print (p)"
   ]
  },
  {
   "cell_type": "code",
   "execution_count": 73,
   "metadata": {
    "_uuid": "4774b1be2f6419c305e36d45c4224452064128d8"
   },
   "outputs": [],
   "source": [
    "ERROR_THRESHOLD = 0.25\n",
    "def classify(sentence):\n",
    "    # generate probabilities from the model\n",
    "    results = model.predict([bow(sentence, words)])[0]\n",
    "    # filter out predictions below a threshold\n",
    "    results = [[i,r] for i,r in enumerate(results) if r>ERROR_THRESHOLD]\n",
    "    # sort by strength of probability\n",
    "    results.sort(key=lambda x: x[1], reverse=True)\n",
    "    return_list = []\n",
    "    for r in results:\n",
    "        return_list.append((classes[r[0]], r[1]))\n",
    "    # return tuple of intent and probability\n",
    "    return return_list\n",
    "\n",
    "def response(sentence, userID='123', show_details=False):\n",
    "    results = classify(sentence)\n",
    "    # if we have a classification then find the matching intent tag\n",
    "    if results:\n",
    "        # loop as long as there are matches to process\n",
    "        while results:\n",
    "            for i in intents['intents']:\n",
    "                # find a tag matching the first result\n",
    "                if i['tag'] == results[0][0]:\n",
    "                    # a random response from the intent\n",
    "                    return print(rand.choice(i['responses']))\n",
    "\n",
    "            results.pop(0)"
   ]
  },
  {
   "cell_type": "code",
   "execution_count": 74,
   "metadata": {
    "_uuid": "2d33fdd0ff2fe8ab630ac2f3e51b2518e80ea99d"
   },
   "outputs": [
    {
     "data": {
      "text/plain": [
       "[('Lacollege', 0.9988368)]"
      ]
     },
     "execution_count": 74,
     "metadata": {},
     "output_type": "execute_result"
    }
   ],
   "source": [
    " classify('loyola college?')"
   ]
  },
  {
   "cell_type": "code",
   "execution_count": 75,
   "metadata": {},
   "outputs": [
    {
     "name": "stdout",
     "output_type": "stream",
     "text": [
      "1. loyola college is a catholic minority institution\n",
      "2. education world ranked loyola college 1st at state level & 11th at national level\n",
      "3. NAAC re-accredited loyola college in 2019 & awarded an 'A' grade\n",
      "4. our vast campus which is approx 132 acres, makes us hyderabad's largest private college\n",
      "5. loyola college has a total of 6 blocks,own weather station & reverse osmosis water purification unit\n",
      "7. loyola emphasizes as much on practical understanding as on theory, with a total of 28 labs.\n"
     ]
    }
   ],
   "source": [
    "response('tell me about the college?')"
   ]
  },
  {
   "cell_type": "code",
   "execution_count": 76,
   "metadata": {},
   "outputs": [
    {
     "name": "stdout",
     "output_type": "stream",
     "text": [
      "1.  BSc - Chemical Technology\n",
      "2.  BSc(Honours) - in  Agriculture Science and Rural Development\n",
      "3  BSc - Computer Science and Engineering\n",
      "4  BCom Honors\n",
      "5.  BSc - Electronics Technology\n",
      "6.  BSc - Computer Systems & Engineering\n",
      "7.  BCom - Advertising, Sales Promotion & Sales Management\n",
      "8.  BSc - Biotechnology, Chemistry & Genetics\n",
      "9.  BCom - General / Business Studies\n",
      "10. BA - Mass Communication\n",
      "11. BSc - Food Technology and Management\n",
      "12. BA - Psychology, English & Journalism\n",
      "13. BSc - Maths, Statistics & Computer Science\n",
      "14. BSc - Multimedia and Animation\n",
      "15. BCom - Computers\n",
      "16. BBA - Bachelor of Business Administration\n",
      "17. BCom - International Accounting & Finance\n",
      "18. BSc - Computer Data Science & Analytics Engineering\n",
      "19. BCom(Honors) - in Strategic Finance\n",
      "20. BCom - Business Process Management\n",
      "21. BSc - Food Science, Nutrition & Dietetics \n"
     ]
    }
   ],
   "source": [
    "response(\"ug courses\")"
   ]
  },
  {
   "cell_type": "code",
   "execution_count": 77,
   "metadata": {},
   "outputs": [
    {
     "name": "stdout",
     "output_type": "stream",
     "text": [
      "The principal of the loyola college is Rev Fr Dr Pothireddy Anthony SJ.\n"
     ]
    }
   ],
   "source": [
    "response(\"principal?\")"
   ]
  },
  {
   "cell_type": "code",
   "execution_count": 78,
   "metadata": {},
   "outputs": [
    {
     "name": "stdout",
     "output_type": "stream",
     "text": [
      "1. Rev Fr Dr L Joji Reddy SJ is the vice principal of loyola pg college\n",
      " 2. Rev Fr Dr Balaswamy Sj is the vice principal of loyola ug college\n"
     ]
    }
   ],
   "source": [
    "response(\"vice principal?\")"
   ]
  },
  {
   "cell_type": "code",
   "execution_count": 79,
   "metadata": {},
   "outputs": [
    {
     "name": "stdout",
     "output_type": "stream",
     "text": [
      "1. loyola college is a catholic minority institution\n",
      "2. education world ranked loyola college 1st at state level & 11th at national level\n",
      "3. NAAC re-accredited loyola college in 2019 & awarded an 'A' grade\n",
      "4. our vast campus which is approx 132 acres, makes us hyderabad's largest private college\n",
      "5. loyola college has a total of 6 blocks,own weather station & reverse osmosis water purification unit\n",
      "7. loyola emphasizes as much on practical understanding as on theory, with a total of 28 labs.\n",
      "None\n"
     ]
    }
   ],
   "source": [
    "print(response(\"college details?\"))"
   ]
  },
  {
   "cell_type": "code",
   "execution_count": 80,
   "metadata": {},
   "outputs": [
    {
     "name": "stdout",
     "output_type": "stream",
     "text": [
      "1. Register and Apply :\n",
      "Interested candidates can apply offline with required information\n",
      "2. Entrance Test:\n",
      "Eligible candidates need to appear for an entrance test conducted by Loyola Academy Degree and PG College\n",
      "3. Personal Interview:\n",
      "Shortlisted candidates will be called for a personal interview based on the marks obtained in the entrance test\n"
     ]
    }
   ],
   "source": [
    "response(\"how to get admission?\")"
   ]
  },
  {
   "cell_type": "code",
   "execution_count": 81,
   "metadata": {},
   "outputs": [
    {
     "name": "stdout",
     "output_type": "stream",
     "text": [
      "The following are some of the placement details :\n",
      "1. 350k pa. Companies gladly pay for our talent pool.\n",
      "2. 100 companies \n",
      "3. 300 jobs in 2018\n",
      "4. We place students only in the best companies\n",
      "5. 600 internships\n"
     ]
    }
   ],
   "source": [
    "response(\"tell me about college placements?\")"
   ]
  },
  {
   "cell_type": "raw",
   "metadata": {},
   "source": [
    "response(\"tell me about campus placements\")"
   ]
  },
  {
   "cell_type": "code",
   "execution_count": 82,
   "metadata": {},
   "outputs": [
    {
     "name": "stdout",
     "output_type": "stream",
     "text": [
      "The following are some of the placement details :\n",
      "1. 350k pa. Companies gladly pay for our talent pool.\n",
      "2. 100 companies \n",
      "3. 300 jobs in 2018\n",
      "4. We place students only in the best companies\n",
      "5. 600 internships\n"
     ]
    }
   ],
   "source": [
    "response(\"tell me about campus placements\")"
   ]
  },
  {
   "cell_type": "code",
   "execution_count": 83,
   "metadata": {},
   "outputs": [
    {
     "name": "stdout",
     "output_type": "stream",
     "text": [
      "hi\n"
     ]
    }
   ],
   "source": [
    "response(\"hello\")"
   ]
  },
  {
   "cell_type": "code",
   "execution_count": 84,
   "metadata": {},
   "outputs": [
    {
     "name": "stdout",
     "output_type": "stream",
     "text": [
      "some of the top companies are Amazon,DELL,Deloitte,Cognizant,Goldman Sachs,Infosys, and so on \n"
     ]
    }
   ],
   "source": [
    "response(\"top companies at campus placements\")"
   ]
  },
  {
   "cell_type": "code",
   "execution_count": 85,
   "metadata": {},
   "outputs": [
    {
     "name": "stdout",
     "output_type": "stream",
     "text": [
      "some of the top companies are Amazon,DELL,Deloitte,Cognizant,Goldman Sachs,Infosys, and so on \n"
     ]
    }
   ],
   "source": [
    "response(\"top recruiting companies\")"
   ]
  },
  {
   "cell_type": "code",
   "execution_count": null,
   "metadata": {},
   "outputs": [],
   "source": []
  }
 ],
 "metadata": {
  "kernelspec": {
   "display_name": "Python 3",
   "language": "python",
   "name": "python3"
  },
  "language_info": {
   "codemirror_mode": {
    "name": "ipython",
    "version": 3
   },
   "file_extension": ".py",
   "mimetype": "text/x-python",
   "name": "python",
   "nbconvert_exporter": "python",
   "pygments_lexer": "ipython3",
   "version": "3.7.6"
  }
 },
 "nbformat": 4,
 "nbformat_minor": 4
}
